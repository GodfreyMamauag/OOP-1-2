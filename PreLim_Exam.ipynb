{
  "nbformat": 4,
  "nbformat_minor": 0,
  "metadata": {
    "colab": {
      "name": "PreLim_Exam.ipynb",
      "provenance": [],
      "authorship_tag": "ABX9TyPdvUoEtk7CYUfQMaOFb/y3",
      "include_colab_link": true
    },
    "kernelspec": {
      "name": "python3",
      "display_name": "Python 3"
    },
    "language_info": {
      "name": "python"
    }
  },
  "cells": [
    {
      "cell_type": "markdown",
      "metadata": {
        "id": "view-in-github",
        "colab_type": "text"
      },
      "source": [
        "<a href=\"https://colab.research.google.com/github/GodfreyMamauag/OOP-1-2/blob/main/PreLim_Exam.ipynb\" target=\"_parent\"><img src=\"https://colab.research.google.com/assets/colab-badge.svg\" alt=\"Open In Colab\"/></a>"
      ]
    },
    {
      "cell_type": "code",
      "execution_count": 1,
      "metadata": {
        "colab": {
          "base_uri": "https://localhost:8080/"
        },
        "id": "FQeP2WoeSNO0",
        "outputId": "5cf89084-38b9-44c7-f9e3-a808a2e43d67"
      },
      "outputs": [
        {
          "output_type": "stream",
          "name": "stdout",
          "text": [
            "Fullname: Mark Godfrey C. Mamauag\n",
            "Student_number: 202101450\n",
            "My Age: 19\n",
            "My School: Cavite State University\n",
            "My Course: BS Computer Engineering(BSCPE)\n"
          ]
        }
      ],
      "source": [
        "class Student:\n",
        "  def __init__(self,fullname,student_number,age,school,course):\n",
        "    self.fullname = fullname\n",
        "    self.student_number = student_number\n",
        "    self.age = age\n",
        "    self.school = school\n",
        "    self.course = course\n",
        "\n",
        "  def info(self):\n",
        "    print(\"Fullname:\",self.fullname)\n",
        "    print(\"Student_number:\",self.student_number)\n",
        "    print(\"My Age:\",self.age)\n",
        "    print(\"My School:\",self.school)\n",
        "    print(\"My Course:\",self.course)\n",
        "\n",
        "myself = Student(\"Mark Godfrey C. Mamauag\", \"202101450\", \"19\",\"Cavite State University\",\"BS Computer Engineering(BSCPE)\")\n",
        "myself.info()"
      ]
    }
  ]
}