{
  "nbformat": 4,
  "nbformat_minor": 0,
  "metadata": {
    "colab": {
      "name": "Activity 2.ipynb",
      "provenance": [],
      "authorship_tag": "ABX9TyOgv/93f56hcmW6jXRU7Sdb",
      "include_colab_link": true
    },
    "kernelspec": {
      "name": "python3",
      "display_name": "Python 3"
    },
    "language_info": {
      "name": "python"
    }
  },
  "cells": [
    {
      "cell_type": "markdown",
      "metadata": {
        "id": "view-in-github",
        "colab_type": "text"
      },
      "source": [
        "<a href=\"https://colab.research.google.com/github/GodfreyMamauag/OOP-1-2/blob/main/Activity_2.ipynb\" target=\"_parent\"><img src=\"https://colab.research.google.com/assets/colab-badge.svg\" alt=\"Open In Colab\"/></a>"
      ]
    },
    {
      "cell_type": "code",
      "execution_count": 2,
      "metadata": {
        "colab": {
          "base_uri": "https://localhost:8080/"
        },
        "id": "SG4Oi6wRizZ-",
        "outputId": "f7e50de3-8717-4f14-870c-8eeb2bb20157"
      },
      "outputs": [
        {
          "output_type": "stream",
          "name": "stdout",
          "text": [
            "50.24\n"
          ]
        }
      ],
      "source": [
        "class Circle():\n",
        "    def __init__(self, a):\n",
        "        self.area = a\n",
        "\n",
        "    def area(self):\n",
        "        return self.area**2*3.14\n",
        "    \n",
        "    def perimeter(self):\n",
        "        return 2*self.area*3.14\n",
        "\n",
        "NewCircle = Circle(8)\n",
        "print(NewCircle.perimeter())"
      ]
    }
  ]
}