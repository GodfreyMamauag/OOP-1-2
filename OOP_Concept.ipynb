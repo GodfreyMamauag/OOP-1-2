{
  "nbformat": 4,
  "nbformat_minor": 0,
  "metadata": {
    "colab": {
      "name": "OOP Concept.ipynb",
      "provenance": [],
      "authorship_tag": "ABX9TyPMjDIOlrxdf2Ngd1eeJAMF",
      "include_colab_link": true
    },
    "kernelspec": {
      "name": "python3",
      "display_name": "Python 3"
    },
    "language_info": {
      "name": "python"
    }
  },
  "cells": [
    {
      "cell_type": "markdown",
      "metadata": {
        "id": "view-in-github",
        "colab_type": "text"
      },
      "source": [
        "<a href=\"https://colab.research.google.com/github/GodfreyMamauag/OOP-1-2/blob/main/OOP_Concept.ipynb\" target=\"_parent\"><img src=\"https://colab.research.google.com/assets/colab-badge.svg\" alt=\"Open In Colab\"/></a>"
      ]
    },
    {
      "cell_type": "markdown",
      "source": [
        "Python classes and objects"
      ],
      "metadata": {
        "id": "kEm3tobp1w3w"
      }
    },
    {
      "cell_type": "code",
      "execution_count": 23,
      "metadata": {
        "id": "jebvIylU1ebN"
      },
      "outputs": [],
      "source": [
        "class Myclass:\n",
        "  pass"
      ]
    },
    {
      "cell_type": "code",
      "source": [
        "class OOP1_2:\n",
        "  X = 5\n",
        "  print(X)"
      ],
      "metadata": {
        "colab": {
          "base_uri": "https://localhost:8080/"
        },
        "id": "sFgEP52C1zvc",
        "outputId": "5b9e823c-0c1e-4ad9-c237-6cf6aa8d3016"
      },
      "execution_count": 24,
      "outputs": [
        {
          "output_type": "stream",
          "name": "stdout",
          "text": [
            "5\n"
          ]
        }
      ]
    },
    {
      "cell_type": "code",
      "source": [
        "class OOP1_2:\n",
        "  def __init__(self,name,age):    #__init__(parameter)\n",
        "    self.name = name          #attributes\n",
        "    self.age = age\n",
        "\n",
        "  def identity(self):\n",
        "    print(self.name, self.age)\n",
        "\n",
        "person = OOP1_2(\"Godfrey\", 18) #create objects\n",
        "\n",
        "\n",
        "print(person.name)\n",
        "print(person.age)\n",
        "print(person.identity)"
      ],
      "metadata": {
        "colab": {
          "base_uri": "https://localhost:8080/"
        },
        "id": "VeSY4Wj710zC",
        "outputId": "750f4c1b-d852-464d-c20c-ee30bb1b8856"
      },
      "execution_count": 25,
      "outputs": [
        {
          "output_type": "stream",
          "name": "stdout",
          "text": [
            "Godfrey\n",
            "18\n",
            "<bound method OOP1_2.identity of <__main__.OOP1_2 object at 0x7f96704b9050>>\n"
          ]
        }
      ]
    },
    {
      "cell_type": "code",
      "source": [
        "person.name = \"Godfrey\"\n",
        "print(person.name)\n",
        "print(person.age)"
      ],
      "metadata": {
        "colab": {
          "base_uri": "https://localhost:8080/"
        },
        "id": "-PGG1mDR13-l",
        "outputId": "8da2a866-a2a1-47d3-a4cb-e1706e96303d"
      },
      "execution_count": 26,
      "outputs": [
        {
          "output_type": "stream",
          "name": "stdout",
          "text": [
            "Godfrey\n",
            "18\n"
          ]
        }
      ]
    },
    {
      "cell_type": "code",
      "source": [
        "person.age = 18\n",
        "\n",
        "print(person.name)\n",
        "print(person.age)"
      ],
      "metadata": {
        "colab": {
          "base_uri": "https://localhost:8080/"
        },
        "id": "63FUReQv15RW",
        "outputId": "fd093370-99b7-44c5-951e-13395de8228a"
      },
      "execution_count": 27,
      "outputs": [
        {
          "output_type": "stream",
          "name": "stdout",
          "text": [
            "Godfrey\n",
            "18\n"
          ]
        }
      ]
    },
    {
      "cell_type": "code",
      "source": [
        "del person.name"
      ],
      "metadata": {
        "id": "fF-5rkWK17LN"
      },
      "execution_count": 28,
      "outputs": []
    },
    {
      "cell_type": "code",
      "source": [
        "print(person.age)\n",
        "print(person.name)"
      ],
      "metadata": {
        "colab": {
          "base_uri": "https://localhost:8080/"
        },
        "id": "7pHz89lI19hN",
        "outputId": "cb60e575-32c0-43c7-c298-bccdf6b05124"
      },
      "execution_count": 32,
      "outputs": [
        {
          "output_type": "stream",
          "name": "stdout",
          "text": [
            "18\n",
            "Godfrey\n"
          ]
        }
      ]
    },
    {
      "cell_type": "markdown",
      "source": [
        "Application 1 - Write a Python program that computes the area of a square, and name its class as Square, side as attributes"
      ],
      "metadata": {
        "id": "Rzm3EE_o1_5k"
      }
    },
    {
      "cell_type": "code",
      "source": [
        "class Square:\n",
        "  def __init__(self,sides):\n",
        "    self.sides = sides\n",
        "  \n",
        "  def area(self):\n",
        "    return self.sides*self.sides  #formula to compute the area of the square\n",
        "\n",
        "  def display(self):\n",
        "    print(\"the area of the square is:\", self.area())\n",
        "\n",
        "square = Square(4)\n",
        "\n",
        "\n",
        "print(square.sides)\n",
        "square.display()"
      ],
      "metadata": {
        "colab": {
          "base_uri": "https://localhost:8080/"
        },
        "id": "Qnyaj6md2ATj",
        "outputId": "4e40ddf1-4dc9-4e09-baa8-5e641ccf25dc"
      },
      "execution_count": 30,
      "outputs": [
        {
          "output_type": "stream",
          "name": "stdout",
          "text": [
            "4\n",
            "the area of the square is: 16\n"
          ]
        }
      ]
    },
    {
      "cell_type": "markdown",
      "source": [
        "Application 2 - Write a Python program that displays your full name, age, course, school. Create a class named MyClass, and name, age, school as attributes."
      ],
      "metadata": {
        "id": "uw4B4A-Z2EKO"
      }
    },
    {
      "cell_type": "code",
      "source": [
        "class MyClass:\n",
        "  def __init__(self, name, age, course, school):\n",
        "    self.name = name\n",
        "    self.age = age\n",
        "    self.course = course\n",
        "    self.school = school\n",
        "\n",
        "  def identity(self):\n",
        "    print(self.name, self.age, self.course, self.school)\n",
        "\n",
        "person = MyClass(\"Godfrey\", 18, \"BS Computer Engineering\", \"CVSU-Main Campus\")\n",
        "\n",
        "print(person.name)\n",
        "print(person.age)\n",
        "print(person.course)\n",
        "print(person.school)"
      ],
      "metadata": {
        "colab": {
          "base_uri": "https://localhost:8080/"
        },
        "id": "xZMGS5hW2GNd",
        "outputId": "954d181b-2826-44ab-b0c4-b7e27924fc75"
      },
      "execution_count": 31,
      "outputs": [
        {
          "output_type": "stream",
          "name": "stdout",
          "text": [
            "Godfrey\n",
            "18\n",
            "BS Computer Engineering\n",
            "CVSU-Main Campus\n"
          ]
        }
      ]
    }
  ]
}